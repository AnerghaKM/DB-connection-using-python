{
 "cells": [
  {
   "cell_type": "code",
   "execution_count": 1,
   "id": "403dd26e",
   "metadata": {},
   "outputs": [],
   "source": [
    "import psycopg2\n",
    "import pandas\n",
    "from pyspark.sql import SparkSession\n",
    "from pyspark.sql.types import IntegerType\n",
    "import ingest\n",
    "\n",
    "\n",
    "#Read SQL query or database table into a DataFrame.This function is a convenience \n",
    "#wrapper around read_sql_table and read_sql_query\n",
    "import pandas.io.sql as sqlio"
   ]
  },
  {
   "cell_type": "code",
   "execution_count": 15,
   "id": "462ccd66",
   "metadata": {},
   "outputs": [
    {
     "name": "stdout",
     "output_type": "stream",
     "text": [
      "Collecting ingest\n",
      "  Downloading ingest-0.0.1-py3-none-any.whl (1.8 kB)\n",
      "Collecting PyYAML==3.12\n",
      "  Downloading PyYAML-3.12.zip (375 kB)\n",
      "Building wheels for collected packages: PyYAML\n",
      "  Building wheel for PyYAML (setup.py): started\n",
      "  Building wheel for PyYAML (setup.py): finished with status 'done'\n",
      "  Created wheel for PyYAML: filename=PyYAML-3.12-cp39-cp39-win_amd64.whl size=43068 sha256=f8b896e210012674b09c583e69513757648fb6d20a96e304e0012e7cdb22f6c6\n",
      "  Stored in directory: c:\\users\\anerghakmohan\\appdata\\local\\pip\\cache\\wheels\\d2\\35\\d6\\9853325318cff4c6fee7514905a5931993a2230e2b746fc978\n",
      "Successfully built PyYAML\n",
      "Installing collected packages: PyYAML, ingest\n",
      "  Attempting uninstall: PyYAML\n",
      "    Found existing installation: PyYAML 6.0\n",
      "    Uninstalling PyYAML-6.0:\n",
      "      Successfully uninstalled PyYAML-6.0\n",
      "Successfully installed PyYAML-3.12 ingest-0.0.1\n"
     ]
    },
    {
     "name": "stderr",
     "output_type": "stream",
     "text": [
      "ERROR: pip's dependency resolver does not currently take into account all the packages that are installed. This behaviour is the source of the following dependency conflicts.\n",
      "conda-repo-cli 1.0.4 requires pathlib, which is not installed.\n"
     ]
    }
   ],
   "source": [
    "#!pip install ingest"
   ]
  },
  {
   "cell_type": "code",
   "execution_count": 6,
   "id": "dcc6bccb",
   "metadata": {},
   "outputs": [],
   "source": [
    "def read_from_pg(self):\n",
    "        connection = psycopg2.connect(user='postgres', password='password', host='localhost', database='Zomato')\n",
    "#after establishing connection,create cursor,to exceute queries\n",
    "        cursor = connection.cursor()\n",
    "        sqlquery1 = \"select * from chennai\"\n",
    "        pandasDF = sqlio.read_sql_query(sqlquery1,connection)\n",
    "#pandas DF can be converted to sparkDF using spark.createdataframe\n",
    "        sparkDF= self.spark.createDataFrame(pandasDF)\n",
    "        sparkDF()\n"
   ]
  },
  {
   "cell_type": "code",
   "execution_count": 5,
   "id": "675747d8",
   "metadata": {},
   "outputs": [
    {
     "ename": "NameError",
     "evalue": "name 'sparkDF' is not defined",
     "output_type": "error",
     "traceback": [
      "\u001b[1;31m---------------------------------------------------------------------------\u001b[0m",
      "\u001b[1;31mNameError\u001b[0m                                 Traceback (most recent call last)",
      "\u001b[1;32mC:\\Users\\ANERGH~1\\AppData\\Local\\Temp/ipykernel_23484/3883374989.py\u001b[0m in \u001b[0;36m<module>\u001b[1;34m\u001b[0m\n\u001b[1;32m----> 1\u001b[1;33m \u001b[0msparkDF\u001b[0m\u001b[1;33m.\u001b[0m\u001b[0mshow\u001b[0m\u001b[1;33m(\u001b[0m\u001b[1;33m)\u001b[0m\u001b[1;33m\u001b[0m\u001b[1;33m\u001b[0m\u001b[0m\n\u001b[0m",
      "\u001b[1;31mNameError\u001b[0m: name 'sparkDF' is not defined"
     ]
    }
   ],
   "source": [
    " sparkDF.show()"
   ]
  },
  {
   "cell_type": "code",
   "execution_count": null,
   "id": "2cc27190",
   "metadata": {},
   "outputs": [],
   "source": []
  }
 ],
 "metadata": {
  "kernelspec": {
   "display_name": "Python 3 (ipykernel)",
   "language": "python",
   "name": "python3"
  },
  "language_info": {
   "codemirror_mode": {
    "name": "ipython",
    "version": 3
   },
   "file_extension": ".py",
   "mimetype": "text/x-python",
   "name": "python",
   "nbconvert_exporter": "python",
   "pygments_lexer": "ipython3",
   "version": "3.9.7"
  }
 },
 "nbformat": 4,
 "nbformat_minor": 5
}
