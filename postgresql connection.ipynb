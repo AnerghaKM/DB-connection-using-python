{
 "cells": [
  {
   "cell_type": "code",
   "execution_count": 2,
   "id": "2d07d341",
   "metadata": {},
   "outputs": [],
   "source": [
    "#import library\n",
    "import psycopg2"
   ]
  },
  {
   "cell_type": "code",
   "execution_count": 12,
   "id": "08b7fcda",
   "metadata": {},
   "outputs": [],
   "source": [
    "#create a connection to database\n",
    "try :\n",
    "    conn = psycopg2.connect(\"host=127.0.0.1 dbname=INtest user=postgres password=password\")\n",
    "except psycopg2.Error as e :\n",
    "    print(\"Error : couldnt make connection\")\n",
    "    print(e)   "
   ]
  },
  {
   "cell_type": "code",
   "execution_count": 13,
   "id": "81381fef",
   "metadata": {},
   "outputs": [],
   "source": [
    "#use connection to get a cursor,which is used to execute queries\n",
    "try :\n",
    "    cur= conn.cursor()\n",
    "except psycopg2.Error as e :\n",
    "    print(\"Error : couldnt get curser to database\")\n",
    "    print(e)"
   ]
  },
  {
   "cell_type": "code",
   "execution_count": 14,
   "id": "1a9f469a",
   "metadata": {},
   "outputs": [],
   "source": [
    "#set automatic commit to be true, so each action is committed without calling conn.commit after each command\n",
    "conn.set_session(autocommit=True)"
   ]
  },
  {
   "cell_type": "code",
   "execution_count": 15,
   "id": "a124dc6e",
   "metadata": {},
   "outputs": [
    {
     "name": "stdout",
     "output_type": "stream",
     "text": [
      "database \"testing\" already exists\n",
      "\n"
     ]
    }
   ],
   "source": [
    "#create database\n",
    "try :\n",
    "    cur.execute(\"create database testing\")\n",
    "except psycopg2.Error as e:\n",
    "    print(e)"
   ]
  },
  {
   "cell_type": "code",
   "execution_count": 31,
   "id": "6d051207",
   "metadata": {},
   "outputs": [],
   "source": [
    "#create table\n",
    "try :\n",
    "    cur.execute(\"create table testing(id1 int, name varchar(20))\")\n",
    "except psycopg2.Error as e:\n",
    "    print(e)"
   ]
  },
  {
   "cell_type": "code",
   "execution_count": 51,
   "id": "a84466fb",
   "metadata": {},
   "outputs": [],
   "source": [
    "#inserting values\n",
    "cur.execute(\"INSERT INTO testing (id1,name) VALUES(%s, %s)\",(1,\"Ann\"))"
   ]
  },
  {
   "cell_type": "code",
   "execution_count": 52,
   "id": "4addb6b6",
   "metadata": {},
   "outputs": [],
   "source": [
    "cur.execute(\"SELECT * from testing\")"
   ]
  },
  {
   "cell_type": "code",
   "execution_count": 53,
   "id": "91de25fe",
   "metadata": {},
   "outputs": [
    {
     "name": "stdout",
     "output_type": "stream",
     "text": [
      "(1, 'Ann')\n"
     ]
    }
   ],
   "source": [
    "row = cur.fetchone()\n",
    "print(row)"
   ]
  },
  {
   "cell_type": "code",
   "execution_count": null,
   "id": "1c6e9c88",
   "metadata": {},
   "outputs": [],
   "source": [
    "while(row):\n",
    "    print(row)\n",
    "    row=cur.fetchone"
   ]
  },
  {
   "cell_type": "code",
   "execution_count": 54,
   "id": "c659a9a4",
   "metadata": {},
   "outputs": [
    {
     "data": {
      "text/plain": [
       "[(1, 'Ann'), (1, 'Ann')]"
      ]
     },
     "execution_count": 54,
     "metadata": {},
     "output_type": "execute_result"
    }
   ],
   "source": [
    "cur.fetchmany(2)"
   ]
  },
  {
   "cell_type": "code",
   "execution_count": null,
   "id": "a8ba719b",
   "metadata": {},
   "outputs": [],
   "source": [
    "cur.close()\n",
    "#close connection\n",
    "try :\n",
    "   conn.close()\n",
    "except psycopg2.Error as e:\n",
    "    print(e)"
   ]
  },
  {
   "cell_type": "code",
   "execution_count": null,
   "id": "589fb0e0",
   "metadata": {},
   "outputs": [],
   "source": []
  }
 ],
 "metadata": {
  "kernelspec": {
   "display_name": "Python 3 (ipykernel)",
   "language": "python",
   "name": "python3"
  },
  "language_info": {
   "codemirror_mode": {
    "name": "ipython",
    "version": 3
   },
   "file_extension": ".py",
   "mimetype": "text/x-python",
   "name": "python",
   "nbconvert_exporter": "python",
   "pygments_lexer": "ipython3",
   "version": "3.9.7"
  }
 },
 "nbformat": 4,
 "nbformat_minor": 5
}
